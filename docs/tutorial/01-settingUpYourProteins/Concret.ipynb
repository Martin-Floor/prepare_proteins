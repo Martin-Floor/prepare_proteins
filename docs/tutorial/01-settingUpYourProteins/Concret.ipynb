{
 "cells": [
  {
   "cell_type": "markdown",
   "id": "29e232bf",
   "metadata": {},
   "source": [
    "docu:\n",
    " - sequenceModels\n",
    " - setUpAlphaFold"
   ]
  },
  {
   "cell_type": "markdown",
   "id": "1a3f8539",
   "metadata": {},
   "source": [
    "## * General considerations\n",
    "#### Get the information of a method / function\n",
    "We can always see information of a method, for example a function, by writting a \"?\" at the end of the line. It will retrieve the function's documentation, typically a general explanation of what does the function do and its options. In the example below, we are going to take the \"models\" variable where we used the proteinModels class and stablished our \"models_folder\" and we will apply the *removeTerminiByConfidenceScore* function. To see its documentation, we add a \"?\" at the end of the function's name and execute the cell."
   ]
  },
  {
   "cell_type": "code",
   "execution_count": 22,
   "id": "6b54a0c1",
   "metadata": {},
   "outputs": [],
   "source": [
    "models.removeTerminiByConfidenceScore?"
   ]
  },
  {
   "cell_type": "markdown",
   "id": "38571f96",
   "metadata": {},
   "source": [
    "# 01 - Preparing your proteins\n",
    "\n",
    "## Introduction\n",
    "\n",
    "The prepare_proteins library was written to deal with the high throughput setup of protein systems. It can handle many PDB files simultaneously to set up general optimizations that prepare the systems for specific calculations and set up many kinds of simulations.\n",
    "\n",
    "In this document we are going to show an example of the general workflow that can be followed in order to accomplish the latter mentioned objectives. The intention is that every step can be followed and understood with the help of the attached explanations."
   ]
  },
  {
   "cell_type": "markdown",
   "id": "08edd31a",
   "metadata": {},
   "source": [
    "## 1. What modules and libraries do you need?\n",
    "First of all we need to import the principal library **\"prepare_proteins\"**. However, probably it won't be the only one because in general you will need another \"complementary\" modules and libraries. This is the case, for example, of the **\"bsc_calculations\"** library. This one doesn't need much explanation but is the one responsible of setting up the calculation files and folders for the different BSC clusters. So, in summary, the principal libraries that we will need are:\n",
    "\n",
    "- prepare_proteins\n",
    "- bsc_calculations\n",
    "\n",
    "We have to mention that the **prepare_proteins** library works with python classes and we will begin the workflow using them in order to be able to use their respective methods. "
   ]
  },
  {
   "cell_type": "code",
   "execution_count": 2,
   "id": "f74a57d9",
   "metadata": {},
   "outputs": [],
   "source": [
    "import prepare_proteins\n",
    "import bsc_calculations"
   ]
  },
  {
   "cell_type": "markdown",
   "id": "5ce016ef",
   "metadata": {},
   "source": [
    "## 2. Preparing sequences - starting from a FASTA file\n",
    "In this case we are starting from a FASTA file named \"sequences.fasta\" that contains 16 sequences. We will obtain the structures by running AlphaFold. To do it we will:\n",
    "1. Use the \"sequenceModels\" class of the \"prepare_models\" library and define the file where our sequences reside (in this case the \"sequences.fasta\" file). "
   ]
  },
  {
   "cell_type": "code",
   "execution_count": 27,
   "id": "2e07a1ef",
   "metadata": {},
   "outputs": [],
   "source": [
    "sequences = prepare_proteins.sequenceModels('sequences.fasta')"
   ]
  },
  {
   "cell_type": "markdown",
   "id": "124ca28a",
   "metadata": {},
   "source": [
    "2. Now we can use the \"setUpAlphaFold\" method "
   ]
  },
  {
   "cell_type": "code",
   "execution_count": null,
   "id": "3a635a9e",
   "metadata": {},
   "outputs": [],
   "source": [
    "sequences.setUpAlphaFold('alphafold')"
   ]
  },
  {
   "cell_type": "markdown",
   "id": "aaf8cb00",
   "metadata": {},
   "source": [
    "### 2.1. Preparing sequences - starting from a FASTA file\n",
    "In this case, we will start defining the class that belongs to this piece of workflow, the *sequenceModels* class. To do it, we can save it in a variable, in this case called \"sequences\" and we only have to define in which fasta file reside our starting sequences. In this case, our sequence resides in the file named \"sequences.fasta\". \n",
    "\n",
    "Now we can use the class method *setUpAlphafold*. It only needs the name of the folder that we want to create/use to run the software."
   ]
  },
  {
   "cell_type": "code",
   "execution_count": 31,
   "id": "ca5222f8",
   "metadata": {},
   "outputs": [],
   "source": [
    "sequences = prepare_proteins.sequenceModels('sequences.fasta')\n",
    "jobs = sequences.setUpAlphaFold('alphafold')\n",
    "bsc_calculations.minotauro.jobArrays(jobs, job_name='AF_sequences', partition='bsc_ls', program='alphafold')"
   ]
  },
  {
   "cell_type": "markdown",
   "id": "97479ca9",
   "metadata": {},
   "source": [
    "### 2.2. Preparing models - taking PDB files\n",
    "In this case, we will also start defining the class that belongs to this piece or workflow, the *proteinModels* class. To do it, we can also save it in a variable, in this case named \"models\" and we only have to define in which folder reside our PDB files. In this case, we could have a folder named \"structures\" where we previously stored our initial PDBs or we could also create a folder with the ALPHAFOLD output structures."
   ]
  },
  {
   "cell_type": "code",
   "execution_count": null,
   "id": "3317dfd9",
   "metadata": {},
   "outputs": [],
   "source": [
    "for model in os.listdir('alphafold/output_models/'):\n",
    "    if os.path.exists('alphafold/output_models/'+model+'/ranked_0.pdb'):\n",
    "        shutil.copyfile('alphafold/output_models/'+model+'/ranked_0.pdb', \n",
    "                        'structures/'+model.replace('_', '-')+'.pdb')"
   ]
  },
  {
   "cell_type": "code",
   "execution_count": 20,
   "id": "9afe7db4",
   "metadata": {},
   "outputs": [],
   "source": [
    "models = prepare_proteins.proteinModels('structures')"
   ]
  },
  {
   "cell_type": "markdown",
   "id": "707ff497",
   "metadata": {},
   "source": [
    "## 3. System preparation\n"
   ]
  },
  {
   "cell_type": "code",
   "execution_count": null,
   "id": "f4eb6cd5",
   "metadata": {},
   "outputs": [],
   "source": []
  }
 ],
 "metadata": {
  "kernelspec": {
   "display_name": "Python 3 (ipykernel)",
   "language": "python",
   "name": "python3"
  },
  "language_info": {
   "codemirror_mode": {
    "name": "ipython",
    "version": 3
   },
   "file_extension": ".py",
   "mimetype": "text/x-python",
   "name": "python",
   "nbconvert_exporter": "python",
   "pygments_lexer": "ipython3",
   "version": "3.9.7"
  }
 },
 "nbformat": 4,
 "nbformat_minor": 5
}
